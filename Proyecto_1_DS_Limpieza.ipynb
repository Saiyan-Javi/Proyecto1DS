{
 "cells": [
  {
   "cell_type": "markdown",
   "id": "28cee17a",
   "metadata": {},
   "source": [
    "# Proyecto 1 – Limpieza de Establecimientos Educativos (Diversificado)\n",
    "\n",
    "Este cuaderno realiza **exclusivamente limpieza** (sin análisis) sobre el dataset unificado `centros_educativos_completo.csv`. Incluye bitácora de acciones y marcadores de posibles duplicados.\n",
    "\n",
    "## Contenido\n",
    "1. Carga de datos crudos\n",
    "2. Utilidades de normalización\n",
    "3. Limpieza general (espacios/guiones/vacíos)\n",
    "4. Limpieza específica de `ESTABLECIMIENTO`, `DIRECCION`, `TELEFONO`\n",
    "5. Estandarización de categóricas\n",
    "6. Generación de clave canónica y marcaje de posibles duplicados\n",
    "7. Guardado de salidas (CSV limpio, duplicados, bitácora)\n",
    "8. (Opcional) Búsqueda de un centro educativo\n"
   ]
  },
  {
   "cell_type": "code",
   "execution_count": null,
   "id": "380e9419",
   "metadata": {},
   "outputs": [],
   "source": [
    "import re, unicodedata\n",
    "import pandas as pd\n",
    "from collections import OrderedDict\n",
    "from datetime import datetime\n",
    "\n",
    "csv_in = '/mnt/data/centros_educativos_completo.csv'\n",
    "df = pd.read_csv(csv_in, dtype=str)\n",
    "print('Filas x columnas:', df.shape)\n",
    "df.head(3)"
   ]
  },
  {
   "cell_type": "markdown",
   "id": "ef51a72f",
   "metadata": {},
   "source": [
    "## Utilidades de normalización"
   ]
  },
  {
   "cell_type": "code",
   "execution_count": null,
   "id": "f81df70d",
   "metadata": {},
   "outputs": [],
   "source": [
    "def strip_accents(s: str) -> str:\n",
    "    if not isinstance(s, str):\n",
    "        return s\n",
    "    return ''.join(ch for ch in unicodedata.normalize('NFKD', s) if not unicodedata.combining(ch))\n",
    "\n",
    "def collapse_spaces_and_hyphens(s: str) -> str:\n",
    "    if not isinstance(s, str):\n",
    "        return s\n",
    "    s = s.replace('—', '-').replace('–', '-').replace('−', '-').replace('­', '')\n",
    "    s = re.sub(r'[ \\t\\u00A0]+', ' ', s)\n",
    "    s = re.sub(r'-{2,}', '-', s)\n",
    "    s = re.sub(r'\\s*-\\s*', ' - ', s)\n",
    "    s = re.sub(r'\\s{2,}', ' ', s)\n",
    "    return s.strip()\n",
    "\n",
    "def normalize_text_basic(s: str) -> str:\n",
    "    if not isinstance(s, str):\n",
    "        return s\n",
    "    s = s.strip().replace('\"', '').replace('“','').replace('”','').replace('´', \"'\")\n",
    "    s = strip_accents(s).upper()\n",
    "    s = collapse_spaces_and_hyphens(s)\n",
    "    return s\n",
    "\n",
    "def expand_address_abbrev(s: str) -> str:\n",
    "    if not isinstance(s, str):\n",
    "        return s\n",
    "    txt = ' ' + s + ' '\n",
    "    rules = OrderedDict([\n",
    "        (r'\\bAV[\\.]?\\b', ' AVENIDA '),\n",
    "        (r'\\bAVE[\\.]?\\b', ' AVENIDA '),\n",
    "        (r'\\bAVDA[\\.]?\\b', ' AVENIDA '),\n",
    "        (r'\\bBLVD[\\.]?\\b', ' BOULEVARD '),\n",
    "        (r'\\bCALZ[\\.]?\\b', ' CALZADA '),\n",
    "        (r'\\bCOL[\\.]?\\b', ' COLONIA '),\n",
    "        (r'\\bCOND[\\.]?\\b', ' CONDOMINIO '),\n",
    "        (r'\\bRES[\\.]?\\b', ' RESIDENCIAL '),\n",
    "        (r'\\bZ[\\.]?\\b(?=\\s*\\d)', ' ZONA '),\n",
    "        (r'\\bZONA\\b\\s*(?=\\d)', ' ZONA '),\n",
    "        (r'\\bKM[\\.]?\\b', ' KM '),\n",
    "        (r'\\bNO[\\.]?\\b', ' NUMERO '),\n",
    "        (r'\\bN[\\.]?\\b(?=\\s*\\d)', ' NUMERO '),\n",
    "        (r'\\b#\\b', ' NUMERO '),\n",
    "        (r'\\bEDIF[\\.]?\\b', ' EDIFICIO '),\n",
    "        (r'\\b2DA\\b', ' 2A '),\n",
    "        (r'\\b3RA\\b', ' 3A '),\n",
    "    ])\n",
    "    for pat, rep in rules.items():\n",
    "        txt = re.sub(pat, rep, txt, flags=re.IGNORECASE)\n",
    "    txt = collapse_spaces_and_hyphens(txt)\n",
    "    return txt\n",
    "\n",
    "def normalize_name(s: str) -> str:\n",
    "    return normalize_text_basic(s)\n",
    "\n",
    "def normalize_address(s: str) -> str:\n",
    "    if not isinstance(s, str):\n",
    "        return s\n",
    "    s = normalize_text_basic(s)\n",
    "    s = expand_address_abbrev(s)\n",
    "    s = re.sub(r'\\b(\\d+)\\s*\\.\\s*', r'\\1 ', s)\n",
    "    s = re.sub(r'\\bKM\\.\\b', ' KM ', s)\n",
    "    s = collapse_spaces_and_hyphens(s)\n",
    "    return s\n",
    "\n",
    "def clean_phone_field(s: str):\n",
    "    if not isinstance(s, str):\n",
    "        return None\n",
    "    nums = re.findall(r'\\d{8}', s)\n",
    "    nums = [n for n in nums if not re.fullmatch(r'0{8}', n)]\n",
    "    seen, unique = set(), []\n",
    "    for n in nums:\n",
    "        if n not in seen:\n",
    "            seen.add(n)\n",
    "            unique.append(n)\n",
    "    return ' / '.join(unique) if unique else None\n",
    "\n",
    "def make_duplicate_key(nombre, direccion, municipio, departamento) -> str:\n",
    "    nombre_n = normalize_name(nombre) if isinstance(nombre, str) else ''\n",
    "    direccion_n = normalize_address(direccion) if isinstance(direccion, str) else ''\n",
    "    municipio_n = normalize_text_basic(municipio) if isinstance(municipio, str) else ''\n",
    "    depto_n = normalize_text_basic(departamento) if isinstance(departamento, str) else ''\n",
    "    key = f\"{nombre_n} | {direccion_n} | {municipio_n} | {depto_n}\"\n",
    "    key = collapse_spaces_and_hyphens(key)\n",
    "    return key\n"
   ]
  },
  {
   "cell_type": "markdown",
   "id": "f37e0f18",
   "metadata": {},
   "source": [
    "## Bitácora de acciones"
   ]
  },
  {
   "cell_type": "code",
   "execution_count": null,
   "id": "fe43ffbd",
   "metadata": {},
   "outputs": [],
   "source": [
    "bitacora = []\n",
    "def log_step(accion: str, justificacion: str, resumen=None):\n",
    "    bitacora.append({\n",
    "        'timestamp': datetime.now().isoformat(timespec='seconds'),\n",
    "        'accion': accion,\n",
    "        'justificacion': justificacion,\n",
    "        'resumen': resumen or {}\n",
    "    })\n",
    "log_step('cargar_datos', 'Cargar CSV crudo como texto para preservar formatos originales.',\n",
    "         {'filas': len(df), 'columnas': list(df.columns)})\n",
    "len(bitacora)"
   ]
  },
  {
   "cell_type": "markdown",
   "id": "5cb69c20",
   "metadata": {},
   "source": [
    "## Limpieza general (espacios/guiones/vacíos)"
   ]
  },
  {
   "cell_type": "code",
   "execution_count": null,
   "id": "f66ea9b6",
   "metadata": {},
   "outputs": [],
   "source": [
    "object_cols = [c for c in df.columns if df[c].dtype == 'object']\n",
    "na_antes = {c: int(df[c].isna().sum()) for c in object_cols}\n",
    "\n",
    "def _collapse_series(s: pd.Series) -> pd.Series:\n",
    "    return s.map(lambda x: collapse_spaces_and_hyphens(x) if isinstance(x, str) else x)\n",
    "\n",
    "df[object_cols] = df[object_cols].apply(_collapse_series)\n",
    "df[object_cols] = df[object_cols].replace({'': pd.NA, 'nan': pd.NA, 'None': pd.NA})\n",
    "na_despues = {c: int(df[c].isna().sum()) for c in object_cols}\n",
    "log_step('normalizar_espacios_guiones', 'Colapsar espacios múltiples/guiones y estandarizar vacíos como NA.',\n",
    "         {'na_antes': na_antes, 'na_despues': na_despues})\n",
    "len(bitacora)"
   ]
  },
  {
   "cell_type": "markdown",
   "id": "6187d8d8",
   "metadata": {},
   "source": [
    "## Limpieza específica de ESTABLECIMIENTO, DIRECCION y TELEFONO"
   ]
  },
  {
   "cell_type": "code",
   "execution_count": null,
   "id": "0048b8d2",
   "metadata": {},
   "outputs": [],
   "source": [
    "for col in ['ESTABLECIMIENTO','DIRECCION','TELEFONO']:\n",
    "    if col in df.columns and f'{col}_ORIG' not in df.columns:\n",
    "        df[f'{col}_ORIG'] = df[col]\n",
    "\n",
    "placeholders = re.compile(r'^[-–—]{1,}$')\n",
    "cols_sensitive = ['ESTABLECIMIENTO','DIRECCION','TELEFONO','MUNICIPIO','DEPARTAMENTO']\n",
    "replaced = {}\n",
    "for col in cols_sensitive:\n",
    "    if col in df.columns:\n",
    "        count_before = int(df[col].notna().sum())\n",
    "        df.loc[df[col].astype(str).str.fullmatch(placeholders, na=False), col] = pd.NA\n",
    "        replaced[col] = {'no_nulos_antes': count_before, 'no_nulos_despues': int(df[col].notna().sum())}\n",
    "log_step('placeholder_a_na', 'Reemplazar campos compuestos solo por guiones por NA.', replaced)\n",
    "\n",
    "before_tel = int(df['TELEFONO'].notna().sum()) if 'TELEFONO' in df.columns else None\n",
    "if 'ESTABLECIMIENTO' in df.columns:\n",
    "    df['ESTABLECIMIENTO'] = df['ESTABLECIMIENTO'].map(lambda x: normalize_name(x) if isinstance(x, str) else x)\n",
    "if 'DIRECCION' in df.columns:\n",
    "    df['DIRECCION'] = df['DIRECCION'].map(lambda x: normalize_address(x) if isinstance(x, str) else x)\n",
    "if 'TELEFONO' in df.columns:\n",
    "    df['TELEFONO'] = df['TELEFONO'].map(lambda x: clean_phone_field(x) if isinstance(x, str) else x)\n",
    "    df['TELEFONO_VALIDO'] = df['TELEFONO'].apply(lambda x: bool(x) if pd.notna(x) else False)\n",
    "after_tel_valid = int(df['TELEFONO_VALIDO'].sum()) if 'TELEFONO' in df.columns else None\n",
    "log_step('normalizar_nombre_direccion_telefono', 'Mayúsculas sin acentos, abreviaturas en dirección y extracción de teléfonos de 8 dígitos.',\n",
    "         {'telefonos_no_na_antes': before_tel, 'telefonos_validos_despues': after_tel_valid})\n",
    "df[['ESTABLECIMIENTO','DIRECCION','TELEFONO']].head(3)"
   ]
  },
  {
   "cell_type": "markdown",
   "id": "cfb6d77c",
   "metadata": {},
   "source": [
    "## Estandarización de categóricas"
   ]
  },
  {
   "cell_type": "code",
   "execution_count": null,
   "id": "60aa5bfb",
   "metadata": {},
   "outputs": [],
   "source": [
    "for col in ['DEPARTAMENTO','MUNICIPIO','SECTOR','AREA','STATUS','MODALIDAD','JORNADA','PLAN','NIVEL']:\n",
    "    if col in df.columns:\n",
    "        df[col] = df[col].map(lambda x: normalize_text_basic(x) if isinstance(x, str) else x)\n",
    "log_step('estandarizar_categoricas', 'Estandarizar en mayúsculas sin acentos para evitar variantes por caso/acentos.')\n",
    "sorted(df['JORNADA'].dropna().unique().tolist()) if 'JORNADA' in df.columns else 'OK'"
   ]
  },
  {
   "cell_type": "markdown",
   "id": "7d6ea7f8",
   "metadata": {},
   "source": [
    "## Clave canónica y marcaje de posibles duplicados"
   ]
  },
  {
   "cell_type": "code",
   "execution_count": null,
   "id": "280182a2",
   "metadata": {},
   "outputs": [],
   "source": [
    "for required in ['ESTABLECIMIENTO','DIRECCION','MUNICIPIO','DEPARTAMENTO']:\n",
    "    if required not in df.columns:\n",
    "        df[required] = pd.NA\n",
    "df['CLAVE_DUP'] = df.apply(lambda r: make_duplicate_key(r['ESTABLECIMIENTO'], r['DIRECCION'], r['MUNICIPIO'], r['DEPARTAMENTO']), axis=1)\n",
    "grp_sizes = df.groupby('CLAVE_DUP')['CLAVE_DUP'].transform('size')\n",
    "df['POSIBLE_DUPLICADO'] = grp_sizes.gt(1)\n",
    "df_dups = df.loc[df['POSIBLE_DUPLICADO'], ['CLAVE_DUP','CODIGO','ESTABLECIMIENTO','DIRECCION','TELEFONO','MUNICIPIO','DEPARTAMENTO','JORNADA','PLAN']] \\\n",
    "            .sort_values(['DEPARTAMENTO','MUNICIPIO','ESTABLECIMIENTO','DIRECCION'])\n",
    "log_step('marcar_posibles_duplicados', 'Agrupar registros que coinciden en nombre+dirección+ubicación para revisión.',\n",
    "         {'clusters_sospechosos': int(df_dups['CLAVE_DUP'].nunique()), 'filas_en_clusters': int(len(df_dups))})\n",
    "df_dups.head(10)"
   ]
  },
  {
   "cell_type": "markdown",
   "id": "d7801847",
   "metadata": {},
   "source": [
    "## Guardado de salidas"
   ]
  },
  {
   "cell_type": "code",
   "execution_count": null,
   "id": "9d3a5f84",
   "metadata": {},
   "outputs": [],
   "source": [
    "csv_out_clean = '/mnt/data/centros_educativos_completo_limpio.csv'\n",
    "csv_out_dups  = '/mnt/data/posibles_duplicados.csv'\n",
    "csv_out_log   = '/mnt/data/bitacora_limpieza.csv'\n",
    "df.to_csv(csv_out_clean, index=False, encoding='utf-8')\n",
    "df_dups.to_csv(csv_out_dups, index=False, encoding='utf-8')\n",
    "pd.DataFrame(bitacora).to_csv(csv_out_log, index=False, encoding='utf-8')\n",
    "print('Guardados:')\n",
    "print(csv_out_clean)\n",
    "print(csv_out_dups)\n",
    "print(csv_out_log)"
   ]
  },
  {
   "cell_type": "markdown",
   "id": "53af43b6",
   "metadata": {},
   "source": [
    "## (Opcional) Función de búsqueda de un centro educativo"
   ]
  },
  {
   "cell_type": "code",
   "execution_count": null,
   "id": "3daa9682",
   "metadata": {},
   "outputs": [],
   "source": [
    "def buscar_centro(df, nombre=None, codigo=None, municipio=None, departamento=None):\n",
    "    q = pd.Series([True]*len(df))\n",
    "    if nombre:\n",
    "        q &= df['ESTABLECIMIENTO'].str.contains(nombre, case=False, na=False)\n",
    "    if codigo:\n",
    "        q &= (df['CODIGO'] == codigo)\n",
    "    if municipio:\n",
    "        q &= df['MUNICIPIO'].str.contains(municipio, case=False, na=False)\n",
    "    if departamento:\n",
    "        q &= df['DEPARTAMENTO'].str.contains(departamento, case=False, na=False)\n",
    "    cols = ['CODIGO','ESTABLECIMIENTO','DIRECCION','TELEFONO','MUNICIPIO','DEPARTAMENTO','JORNADA','PLAN']\n",
    "    cols = [c for c in cols if c in df.columns]\n",
    "    return df.loc[q, cols].sort_values(cols)\n",
    "\n",
    "# Ejemplo:\n",
    "# buscar_centro(df, nombre='INMACULADA', municipio='GUATEMALA')"
   ]
  }
 ],
 "metadata": {},
 "nbformat": 4,
 "nbformat_minor": 5
}
