{
 "cells": [
  {
   "cell_type": "markdown",
   "id": "e78b5bda",
   "metadata": {},
   "source": [
    "## Proyecto 1\n",
    "### Minería de datos\n",
    "#### Javier Ovalle, José Ángel Morales, Ricardo Morales; 22103, 22689, 22289"
   ]
  },
  {
   "cell_type": "code",
   "execution_count": null,
   "id": "e7778e50",
   "metadata": {},
   "outputs": [],
   "source": [
    "import zipfile\n",
    "import urllib.request\n",
    "import io\n",
    "import pandas as pd\n",
    "import xml.etree.ElementTree as ET\n",
    "import json\n",
    "import tabula\n",
    "\n",
    "import requests\n",
    "from bs4 import BeautifulSoup \n"
   ]
  },
  {
   "cell_type": "code",
   "execution_count": null,
   "id": "16e692bc",
   "metadata": {},
   "outputs": [
    {
     "name": "stdout",
     "output_type": "stream",
     "text": [
      "=== Texto completo de la página ===\n",
      "Búsqueda de centros educativos autorizados por el Mineduc [ e-Servicios ] Búsqueda de centros educativos autorizados por el Mineduc y carreras que pueden impartir. Importante: Para una mejor búsqueda puede seleccionar el departamento y municipio, con base a la ubicación del centro educativo, ingresando el código del establecimiento separado por guiones o el nombre completo o parte de él. Un centro educativo puede contar con uno o más códigos de acuerdo con los servicios educativos autorizados (nivel, plan o jornada). Las carreras pueden visualizarse únicamente en los códigos de centros educativos que tienen autorizado el Nivel de Educación Media, Ciclo de Educación Diversificada. Para visualizar las carreras autorizadas a un centro educativo seleccione el Nivel Escolar: Diversificado. Departamento Municipio SELECCIONE UNO ALTA VERAPAZ BAJA VERAPAZ CHIMALTENANGO CHIQUIMULA CIUDAD CAPITAL EL PROGRESO ESCUINTLA GUATEMALA HUEHUETENANGO IZABAL JALAPA JUTIAPA PETEN QUETZALTENANGO QUICHE RETALHULEU SACATEPEQUEZ SAN MARCOS SANTA ROSA SOLOLA SUCHITEPEQUEZ TOTONICAPAN ZACAPA Nivel Escolar TODOS BASICO DIVERSIFICADO PARVULOS PREPRIMARIA BILINGUE PRIMARIA PRIMARIA DE ADULTOS Sector TODOS OFICIAL PRIVADO MUNICIPAL COOPERATIVA Plan Modalidad TODOS DIARIO(REGULAR) SABATINO DOMINICAL FIN DE SEMANA IRREGULAR MIXTO A DISTANCIA TODOS MONOLINGUE BILINGUE Código (##-##-####-##) Nombre Dirección Ministerio de Educación, Copyright © 2,012 Aviso Legal | Términos y Condiciones | Contacto\n",
      "\n",
      "\n",
      "=== Todos los párrafos (<p>) ===\n",
      "\n",
      "\n"
     ]
    }
   ],
   "source": [
    "from bs4 import BeautifulSoup\n",
    "\n",
    "# Ruta al archivo HTML local\n",
    "ruta_archivo = \"C:\\\\Users\\\\javie\\\\Documents\\\\UVG\\\\Cuarto año\\\\Segundo Semestre\\\\Data Science\\\\Archivos P1DS\\\\AltaVerapaz.html\"  # Cambia esto por la ruta real de tu archivo\n",
    "\n",
    "# Abrir y leer el archivo HTML\n",
    "with open(ruta_archivo, \"r\", encoding=\"utf-8\") as archivo:\n",
    "    contenido = archivo.read()\n",
    "\n",
    "# Crear un objeto BeautifulSoup para parsear el HTML\n",
    "soup = BeautifulSoup(contenido, \"html.parser\")\n",
    "\n"
   ]
  }
 ],
 "metadata": {
  "kernelspec": {
   "display_name": "Python 3",
   "language": "python",
   "name": "python3"
  },
  "language_info": {
   "codemirror_mode": {
    "name": "ipython",
    "version": 3
   },
   "file_extension": ".py",
   "mimetype": "text/x-python",
   "name": "python",
   "nbconvert_exporter": "python",
   "pygments_lexer": "ipython3",
   "version": "3.11.9"
  }
 },
 "nbformat": 4,
 "nbformat_minor": 5
}
